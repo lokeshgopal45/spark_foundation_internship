{
 "cells": [
  {
   "cell_type": "markdown",
   "id": "800b1ebe-7fbd-42de-89ea-97d361c117c0",
   "metadata": {},
   "source": [
    "# Linear Regression - Student Percentage Prediction"
   ]
  },
  {
   "cell_type": "code",
   "execution_count": 143,
   "id": "87afcb03-8328-4860-8faf-f23cd9b3cf45",
   "metadata": {},
   "outputs": [],
   "source": [
    "# Libraries \n",
    "import pandas as pd\n",
    "import numpy as np\n",
    "import matplotlib.pyplot as plt\n",
    "import seaborn as sns"
   ]
  },
  {
   "cell_type": "code",
   "execution_count": 144,
   "id": "867fc2a5-cbcc-475a-badc-a705d6f7dd5e",
   "metadata": {},
   "outputs": [
    {
     "data": {
      "text/html": [
       "<div>\n",
       "<style scoped>\n",
       "    .dataframe tbody tr th:only-of-type {\n",
       "        vertical-align: middle;\n",
       "    }\n",
       "\n",
       "    .dataframe tbody tr th {\n",
       "        vertical-align: top;\n",
       "    }\n",
       "\n",
       "    .dataframe thead th {\n",
       "        text-align: right;\n",
       "    }\n",
       "</style>\n",
       "<table border=\"1\" class=\"dataframe\">\n",
       "  <thead>\n",
       "    <tr style=\"text-align: right;\">\n",
       "      <th></th>\n",
       "      <th>Hours</th>\n",
       "      <th>Scores</th>\n",
       "    </tr>\n",
       "  </thead>\n",
       "  <tbody>\n",
       "    <tr>\n",
       "      <th>0</th>\n",
       "      <td>2.5</td>\n",
       "      <td>21</td>\n",
       "    </tr>\n",
       "    <tr>\n",
       "      <th>1</th>\n",
       "      <td>5.1</td>\n",
       "      <td>47</td>\n",
       "    </tr>\n",
       "    <tr>\n",
       "      <th>2</th>\n",
       "      <td>3.2</td>\n",
       "      <td>27</td>\n",
       "    </tr>\n",
       "    <tr>\n",
       "      <th>3</th>\n",
       "      <td>8.5</td>\n",
       "      <td>75</td>\n",
       "    </tr>\n",
       "    <tr>\n",
       "      <th>4</th>\n",
       "      <td>3.5</td>\n",
       "      <td>30</td>\n",
       "    </tr>\n",
       "  </tbody>\n",
       "</table>\n",
       "</div>"
      ],
      "text/plain": [
       "   Hours  Scores\n",
       "0    2.5      21\n",
       "1    5.1      47\n",
       "2    3.2      27\n",
       "3    8.5      75\n",
       "4    3.5      30"
      ]
     },
     "execution_count": 144,
     "metadata": {},
     "output_type": "execute_result"
    }
   ],
   "source": [
    "df = pd.read_csv('student_scores.csv')\n",
    "df.head()"
   ]
  },
  {
   "cell_type": "markdown",
   "id": "b9bcfe81-457d-40a2-87b5-bddd7398f4ee",
   "metadata": {},
   "source": [
    "## Data Splitting"
   ]
  },
  {
   "cell_type": "code",
   "execution_count": 145,
   "id": "46d0bda8-06cb-4a55-bd52-111b74e65189",
   "metadata": {},
   "outputs": [
    {
     "data": {
      "text/plain": [
       "(25, 2)"
      ]
     },
     "execution_count": 145,
     "metadata": {},
     "output_type": "execute_result"
    }
   ],
   "source": [
    "df.shape"
   ]
  },
  {
   "cell_type": "code",
   "execution_count": 146,
   "id": "7188256e-cec2-4e6f-a3a6-add72b63f3ba",
   "metadata": {},
   "outputs": [],
   "source": [
    "X,y = df['Hours'],df['Scores']"
   ]
  },
  {
   "cell_type": "code",
   "execution_count": 147,
   "id": "f04c2cde-ed13-4dec-be82-af5bd21f97ba",
   "metadata": {},
   "outputs": [],
   "source": [
    "from sklearn.model_selection import train_test_split "
   ]
  },
  {
   "cell_type": "code",
   "execution_count": 148,
   "id": "d6b87431-bc5f-4e80-a0ef-f3f29bbe4e1e",
   "metadata": {},
   "outputs": [],
   "source": [
    "X_train, X_test, y_train, y_test = train_test_split(X, y, test_size=0.2, random_state=42)"
   ]
  },
  {
   "cell_type": "markdown",
   "id": "ab6eaab0-eaf1-45fc-a7d1-1578525165b4",
   "metadata": {},
   "source": [
    "## Exploratory Data Analysis"
   ]
  },
  {
   "cell_type": "code",
   "execution_count": 149,
   "id": "69018315-f2a4-4ca8-9e11-7793839023e7",
   "metadata": {},
   "outputs": [
    {
     "data": {
      "text/plain": [
       "(20,)"
      ]
     },
     "execution_count": 149,
     "metadata": {},
     "output_type": "execute_result"
    }
   ],
   "source": [
    "X_train.shape"
   ]
  },
  {
   "cell_type": "code",
   "execution_count": 150,
   "id": "5a117111-7b6b-4606-bf8f-ced492096799",
   "metadata": {},
   "outputs": [
    {
     "data": {
      "text/plain": [
       "dtype('float64')"
      ]
     },
     "execution_count": 150,
     "metadata": {},
     "output_type": "execute_result"
    }
   ],
   "source": [
    "X_train.dtypes"
   ]
  },
  {
   "cell_type": "code",
   "execution_count": 151,
   "id": "048a0361-445f-4cce-91e9-789a558483aa",
   "metadata": {},
   "outputs": [
    {
     "name": "stdout",
     "output_type": "stream",
     "text": [
      "<class 'pandas.core.series.Series'>\n",
      "Index: 20 entries, 9 to 6\n",
      "Series name: Hours\n",
      "Non-Null Count  Dtype  \n",
      "--------------  -----  \n",
      "20 non-null     float64\n",
      "dtypes: float64(1)\n",
      "memory usage: 320.0 bytes\n"
     ]
    }
   ],
   "source": [
    "X_train.info()"
   ]
  },
  {
   "cell_type": "code",
   "execution_count": 152,
   "id": "8bf13700-b168-4361-8da7-35e1c54f85f4",
   "metadata": {},
   "outputs": [
    {
     "data": {
      "text/plain": [
       "count    20.000000\n",
       "mean      4.960000\n",
       "std       2.566874\n",
       "min       1.100000\n",
       "25%       3.075000\n",
       "50%       4.650000\n",
       "75%       7.475000\n",
       "max       9.200000\n",
       "Name: Hours, dtype: float64"
      ]
     },
     "execution_count": 152,
     "metadata": {},
     "output_type": "execute_result"
    }
   ],
   "source": [
    "X_train.describe()"
   ]
  },
  {
   "cell_type": "code",
   "execution_count": 153,
   "id": "ec3ce20b-2da8-4de6-b706-776336d5990c",
   "metadata": {},
   "outputs": [
    {
     "data": {
      "text/plain": [
       "0"
      ]
     },
     "execution_count": 153,
     "metadata": {},
     "output_type": "execute_result"
    }
   ],
   "source": [
    "X_train.isnull().sum()"
   ]
  },
  {
   "cell_type": "code",
   "execution_count": 154,
   "id": "f2982128-4987-4da5-a771-35d92f6b0e4d",
   "metadata": {},
   "outputs": [
    {
     "data": {
      "text/plain": [
       "20    2.7\n",
       "Name: Hours, dtype: float64"
      ]
     },
     "execution_count": 154,
     "metadata": {},
     "output_type": "execute_result"
    }
   ],
   "source": [
    "X_train[X_train.duplicated()]"
   ]
  },
  {
   "cell_type": "code",
   "execution_count": 159,
   "id": "217123b6-d815-4ed8-9a57-1bd5c880f2ab",
   "metadata": {},
   "outputs": [],
   "source": [
    "y_train.drop(labels=[20],inplace=True)"
   ]
  },
  {
   "cell_type": "code",
   "execution_count": 160,
   "id": "a8c6ad5b-6ab5-47b2-a392-e8ac0f18be60",
   "metadata": {},
   "outputs": [],
   "source": [
    "X_train.drop_duplicates(inplace=True)"
   ]
  },
  {
   "cell_type": "code",
   "execution_count": 161,
   "id": "1935492e-4399-4236-af50-f160137f4977",
   "metadata": {},
   "outputs": [
    {
     "data": {
      "text/plain": [
       "(19,)"
      ]
     },
     "execution_count": 161,
     "metadata": {},
     "output_type": "execute_result"
    }
   ],
   "source": [
    "X_train.shape"
   ]
  },
  {
   "cell_type": "code",
   "execution_count": 162,
   "id": "dd33666b-71c5-4968-b8f1-2e5641095569",
   "metadata": {},
   "outputs": [],
   "source": [
    "lower,upper = np.percentile(X_train,25),np.percentile(X_train,75)\n",
    "iqr = upper-lower\n",
    "lb,ub = iqr-1.5*lower,iqr+1.5*upper"
   ]
  },
  {
   "cell_type": "code",
   "execution_count": 163,
   "id": "7269efae-28a4-4601-9bba-1bbaff790e9e",
   "metadata": {},
   "outputs": [
    {
     "data": {
      "text/plain": [
       "(3.25, 7.550000000000001, 4.300000000000001)"
      ]
     },
     "execution_count": 163,
     "metadata": {},
     "output_type": "execute_result"
    }
   ],
   "source": [
    "lower,upper,iqr"
   ]
  },
  {
   "cell_type": "code",
   "execution_count": 164,
   "id": "e556b9ee-2062-49e4-a3fb-701a069ddafb",
   "metadata": {},
   "outputs": [
    {
     "data": {
      "text/plain": [
       "(-0.5749999999999993, 15.625000000000002)"
      ]
     },
     "execution_count": 164,
     "metadata": {},
     "output_type": "execute_result"
    }
   ],
   "source": [
    "lb,ub"
   ]
  },
  {
   "cell_type": "code",
   "execution_count": 165,
   "id": "e9a93b5a-4563-4088-aa6f-549d52e800f1",
   "metadata": {},
   "outputs": [
    {
     "data": {
      "text/plain": [
       "(Series([], Name: Hours, dtype: float64),\n",
       " Series([], Name: Hours, dtype: float64))"
      ]
     },
     "execution_count": 165,
     "metadata": {},
     "output_type": "execute_result"
    }
   ],
   "source": [
    "X_train[X_train<lb],X_train[X_train>ub]"
   ]
  },
  {
   "cell_type": "markdown",
   "id": "50c060bd-fc3b-4ebd-a068-61ef1ab753a9",
   "metadata": {},
   "source": [
    "- No Outliers Found "
   ]
  },
  {
   "cell_type": "code",
   "execution_count": 166,
   "id": "cc579f1f-cc4e-4074-9d03-f9bde44f1c72",
   "metadata": {},
   "outputs": [
    {
     "data": {
      "text/plain": [
       "9     2.7\n",
       "13    3.3\n",
       "1     5.1\n",
       "22    3.8\n",
       "5     1.5\n",
       "Name: Hours, dtype: float64"
      ]
     },
     "execution_count": 166,
     "metadata": {},
     "output_type": "execute_result"
    }
   ],
   "source": [
    "X_train.head()"
   ]
  },
  {
   "cell_type": "code",
   "execution_count": 167,
   "id": "0f790792-fb34-4e68-aebe-5ec3c6551f21",
   "metadata": {
    "scrolled": true
   },
   "outputs": [
    {
     "data": {
      "image/png": "[encoded data removed]",
      "text/plain": [
       "<Figure size 640x480 with 1 Axes>"
      ]
     },
     "metadata": {},
     "output_type": "display_data"
    }
   ],
   "source": [
    "sns.histplot(X_train,bins=8,kde=True)\n",
    "plt.xlabel('Hours')\n",
    "plt.ylabel('Counts')\n",
    "plt.title('Hours Distribution')\n",
    "plt.tight_layout()\n",
    "plt.grid()\n",
    "plt.show()"
   ]
  },
  {
   "cell_type": "code",
   "execution_count": 168,
   "id": "7ac2f7ed-86d8-4861-8bd3-b88b8282b2fa",
   "metadata": {},
   "outputs": [
    {
     "data": {
      "image/png": "[encoded data removed]",
      "text/plain": [
       "<Figure size 640x480 with 1 Axes>"
      ]
     },
     "metadata": {},
     "output_type": "display_data"
    }
   ],
   "source": [
    "sns.boxplot(data=X_train)\n",
    "plt.xlabel('Outliers')\n",
    "plt.ylabel('Hours')\n",
    "plt.title('Outliers in Feature Label')\n",
    "plt.show()"
   ]
  },
  {
   "cell_type": "markdown",
   "id": "bd4d4ac6-47e5-47e3-ac08-f5fbf7a9fb90",
   "metadata": {},
   "source": [
    "- No Outliers"
   ]
  },
  {
   "cell_type": "markdown",
   "id": "874d36c2-5a92-4efe-aa40-f8c1e446ed87",
   "metadata": {},
   "source": [
    "## Building Model"
   ]
  },
  {
   "cell_type": "code",
   "execution_count": 170,
   "id": "d420f715-7030-46f0-85ab-b015caf9bb00",
   "metadata": {},
   "outputs": [],
   "source": [
    "# Normalization"
   ]
  },
  {
   "cell_type": "code",
   "execution_count": 174,
   "id": "33f9fff2-ff93-4771-aa63-d335cbabe717",
   "metadata": {},
   "outputs": [],
   "source": [
    "X_train = pd.DataFrame(X_train)"
   ]
  },
  {
   "cell_type": "code",
   "execution_count": 183,
   "id": "2694f65c-dc8e-4d03-9774-bdffbc465026",
   "metadata": {},
   "outputs": [],
   "source": [
    "X_test = pd.DataFrame(X_test)"
   ]
  },
  {
   "cell_type": "code",
   "execution_count": 184,
   "id": "dd2286bc-8e18-42a3-a2d3-e7eb9cb77882",
   "metadata": {},
   "outputs": [],
   "source": [
    "from sklearn.preprocessing import MinMaxScaler\n",
    "scaler = MinMaxScaler()\n",
    "X_train_normalized = scaler.fit_transform(X_train)\n",
    "X_test_normalized = scaler.transform(X_test)"
   ]
  },
  {
   "cell_type": "code",
   "execution_count": 185,
   "id": "a7c60242-0ba8-4d61-a0ec-63608c182438",
   "metadata": {},
   "outputs": [
    {
     "name": "stdout",
     "output_type": "stream",
     "text": [
      "Coefficients: [78.59073018]\n",
      "Intercept: 13.341395700266219\n"
     ]
    }
   ],
   "source": [
    "from sklearn.linear_model import LinearRegression\n",
    "model = LinearRegression()\n",
    "model.fit(X_train_normalized, y_train)\n",
    "print(\"Coefficients:\", model.coef_)\n",
    "print(\"Intercept:\", model.intercept_)"
   ]
  },
  {
   "cell_type": "code",
   "execution_count": 210,
   "id": "5fd3f9af-2c06-4d68-8ebb-9448bc18c0b6",
   "metadata": {},
   "outputs": [
    {
     "data": {
      "image/png": "[encoded data removed]",
      "text/plain": [
       "<Figure size 1200x500 with 2 Axes>"
      ]
     },
     "metadata": {},
     "output_type": "display_data"
    }
   ],
   "source": [
    "fig, axes = plt.subplots(1, 2, figsize=(12, 5))\n",
    "\n",
    "# 1st Scatter plot\n",
    "sns.scatterplot(x=X_train['Hours'], y=y_train, ax=axes[0])  \n",
    "axes[0].set_xlabel('Hours')\n",
    "axes[0].set_ylabel('Scores')\n",
    "axes[0].set_title('Scatterplot Relation')\n",
    "\n",
    "# 2nd Scatter plot with Regression Line\n",
    "axes[1].scatter(X_train_normalized[:, 0], y_train, label='Actual Data')\n",
    "\n",
    "axes[1].plot(X_train_normalized[:, 0], model.predict(X_train_normalized), color='red', label='Regression Line')\n",
    "\n",
    "# Add labels and title\n",
    "axes[1].set_xlabel('Normalized Hours')\n",
    "axes[1].set_ylabel('Percentage')\n",
    "axes[1].set_title('Regression Line on Scatter Plot')\n",
    "axes[1].legend()\n",
    "plt.suptitle('Scatterplots Along with Regression Line')\n",
    "plt.tight_layout()  \n",
    "plt.show()\n"
   ]
  },
  {
   "cell_type": "markdown",
   "id": "f652a7af-6170-4505-be95-33b1031d70ef",
   "metadata": {},
   "source": [
    "## Evaluation"
   ]
  },
  {
   "cell_type": "code",
   "execution_count": 211,
   "id": "a8cc19b9-f7c0-47e1-b3e0-ca6449e05515",
   "metadata": {},
   "outputs": [
    {
     "name": "stdout",
     "output_type": "stream",
     "text": [
      "Mean Absolute Error (MAE): 3.933980548404949\n",
      "Mean Squared Error (MSE): 18.901095098644035\n",
      "Root Mean Squared Error (RMSE): 4.347538970342191\n",
      "R-squared (R2): 0.9678771327351393\n"
     ]
    }
   ],
   "source": [
    "from sklearn.metrics import mean_absolute_error, mean_squared_error, r2_score\n",
    "y_pred = model.predict(X_test_normalized)\n",
    "mae = mean_absolute_error(y_test, y_pred)\n",
    "mse = mean_squared_error(y_test, y_pred)\n",
    "rmse = np.sqrt(mse)\n",
    "r2 = r2_score(y_test, y_pred)\n",
    "\n",
    "print(\"Mean Absolute Error (MAE):\", mae)\n",
    "print(\"Mean Squared Error (MSE):\", mse)\n",
    "print(\"Root Mean Squared Error (RMSE):\", rmse)\n",
    "print(\"R-squared (R2):\", r2)"
   ]
  },
  {
   "cell_type": "markdown",
   "id": "161b1ddd-07ed-4c56-b8ab-89d31eeb6940",
   "metadata": {},
   "source": [
    "## Prediction"
   ]
  },
  {
   "cell_type": "code",
   "execution_count": 212,
   "id": "37d17b81-5f39-4b78-9627-13d9346b5b28",
   "metadata": {},
   "outputs": [
    {
     "name": "stdin",
     "output_type": "stream",
     "text": [
      "Enter Hours to predict Percentage.. 5\n"
     ]
    },
    {
     "name": "stdout",
     "output_type": "stream",
     "text": [
      "Predicted Percentage for 5.0 hours / day of study is : 51.18\n"
     ]
    }
   ],
   "source": [
    "import warnings\n",
    "warnings.filterwarnings(\"ignore\")\n",
    "hours_to_predict = float(input('Enter Hours to predict Percentage..'))\n",
    "normalized_hours_to_predict = scaler.transform([[hours_to_predict]])\n",
    "\n",
    "predicted_percentage = model.predict(normalized_hours_to_predict)\n",
    "\n",
    "print(f\"Predicted Percentage for {hours_to_predict} hours / day of study is : {round(predicted_percentage[0],2)}\")\n"
   ]
  }
 ],
 "metadata": {
  "kernelspec": {
   "display_name": "Python 3 (ipykernel)",
   "language": "python",
   "name": "python3"
  },
  "language_info": {
   "codemirror_mode": {
    "name": "ipython",
    "version": 3
   },
   "file_extension": ".py",
   "mimetype": "text/x-python",
   "name": "python",
   "nbconvert_exporter": "python",
   "pygments_lexer": "ipython3",
   "version": "3.9.0"
  }
 },
 "nbformat": 4,
 "nbformat_minor": 5
}
